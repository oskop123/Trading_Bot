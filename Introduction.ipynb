{
 "cells": [
  {
   "cell_type": "markdown",
   "metadata": {},
   "source": [
    "# Trading Bot w Pythonie\n",
    "By Adam Księżyk i Oskar Świerczek"
   ]
  },
  {
   "cell_type": "markdown",
   "metadata": {},
   "source": [
    "Projekt, który realizujemy ma na celu automatyczną analizę rynku na podstawie, której wygeneruje sygnały otwarcia i zamknięcia pozycji. Następnie poprzez API wyśle polecenie zrealizowania transakcji, dzięki czemu możemy spekulować prawdziwymi instrumentami finansowymi jak akcje, pary walutowe, surowce itd.\n",
    "\n",
    "Wykorzystamy następujące narzędzia:\n",
    "- Python3\n",
    "- Python modules: collections, statistics, time\n",
    "- XTB Trading station https://xstation5.xtb.com/\n",
    "- XTB konto demo https://www.xtb.com/pl/demo-account\n",
    "- XTB API http://developers.xstore.pro/api"
   ]
  },
  {
   "cell_type": "markdown",
   "metadata": {},
   "source": [
    "XTB to polski dom maklerski, oferujący bardzo ciekawe opcje. Skorzystamy z ich konta demo aby inwestować wirtualnymi pieniędzmi.\n",
    "Wszystkie transakcje będzie można śledzieć na platformie xStation.\n",
    "![alt text](https://github.com/oskop123/Trading_Bot/blob/adam/xStation.png?raw=true, \"xStation\")\n",
    "Aby program mógł się połączyć z serwisem i zarządzać naszym kontem \n",
    "\n"
   ]
  },
  {
   "cell_type": "markdown",
   "metadata": {},
   "source": [
    "The strategy that we will use is called *Moving Average Crossover Strategy* (MACD). It is a simple and effective technique to analyse price trends on the chart.\n",
    "The program shuld recognize when the prices start to go up and open a so called *long position*, which basically means that it will buy a stock."
   ]
  }
 ],
 "metadata": {
  "language_info": {
   "codemirror_mode": {
    "name": "ipython",
    "version": 3
   },
   "file_extension": ".py",
   "mimetype": "text/x-python",
   "name": "python",
   "nbconvert_exporter": "python",
   "pygments_lexer": "ipython3",
   "version": "3.7.6-final"
  },
  "orig_nbformat": 2,
  "kernelspec": {
   "name": "python3",
   "display_name": "Python 3"
  }
 },
 "nbformat": 4,
 "nbformat_minor": 2
}