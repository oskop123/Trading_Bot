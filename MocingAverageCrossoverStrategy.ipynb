{
 "cells": [
  {
   "cell_type": "markdown",
   "metadata": {},
   "source": [
    "# Moving Average Crossover Strategy\n",
    "Klasa Macs jest imlementacją obranej przez nas strategii."
   ]
  },
  {
   "cell_type": "markdown",
   "metadata": {},
   "source": [
    "Początkowa dane przechowywaliśmy w kolejkach FIFO (First in first out). Potrzebowaliśmy struktury o sługości równej oknu dłuższej średniej kroczącej, dane historyczne były zbędne."
   ]
  },
  {
   "cell_type": "code",
   "execution_count": null,
   "metadata": {},
   "outputs": [],
   "source": [
    "    def __init__(self, short_window, long_window):\n",
    "        \"\"\" short_window - short window length\n",
    "            long_window - long window length \"\"\"\n",
    "        self.price_ask = collections.deque(maxlen=long_window)\n",
    "        self.long_window = long_window\n",
    "        self.short_window = short_window\n",
    "        self.last_signal = 0\n",
    "        self.position = 0"
   ]
  },
  {
   "cell_type": "markdown",
   "metadata": {},
   "source": [
    "Użyliśmy struktury *deque* z modułu collections. Zaletą tego rozwiązania jest to, że podczas dołączania nowych danych elementy nie są kopiowane. Po dołączeniu maksymalnej liczby elementów (*maxlen*) każdy nowy element zastępuje najstarszy element w kolejce.\n",
    "Aby wygenerować raport końcowy potrzebne były nam jednak wszystkie dane, które pobraliśmy, więc zmieniliśmy kolejki FIFO na elementy *list*"
   ]
  },
  {
   "cell_type": "code",
   "execution_count": null,
   "metadata": {},
   "outputs": [],
   "source": [
    "def __init__(self, short_window, long_window):\n",
    "        \"\"\" short_window - short window length\n",
    "            long_window - long window length \"\"\"\n",
    "        self.price = []\n",
    "        self.long_window = long_window\n",
    "        self.long_average = []\n",
    "        self.short_window = short_window\n",
    "        self.short_average = []\n",
    "        self.last_signal = 0\n",
    "        self.position = 0\n",
    "        self.positions = []"
   ]
  },
  {
   "cell_type": "markdown",
   "metadata": {},
   "source": [
    "Aby zaktualizować pobraną cenę dodajemy ją do listy."
   ]
  },
  {
   "cell_type": "code",
   "execution_count": null,
   "metadata": {},
   "outputs": [],
   "source": [
    "def update(self, ask):\n",
    "        \"\"\" Update the price list and calculate strategy \"\"\"\n",
    "        self.price.append(ask)\n",
    "        self.strategy()"
   ]
  },
  {
   "cell_type": "markdown",
   "metadata": {},
   "source": [
    "Funkcja *calculate_windows()* oblicza obie średnie kroczące."
   ]
  },
  {
   "cell_type": "code",
   "execution_count": null,
   "metadata": {},
   "outputs": [],
   "source": [
    "def calculate_windows(self):\n",
    "        \"\"\" Calculate long and short moving averages \"\"\"\n",
    "        _short = mean(self.price[-self.short_window:])\n",
    "        _long = mean(self.price[-self.long_window:])\n",
    "        self.short_average.append(_short)\n",
    "        self.long_average.append(_long)\n",
    "        return _short, _long"
   ]
  },
  {
   "cell_type": "markdown",
   "metadata": {},
   "source": [
    "Funkcja *strategy()* generuje sygnały otwarcie i zamknięcia pozycji na podstawie dwóch ostatnich wartości obliczonych średnich."
   ]
  },
  {
   "cell_type": "code",
   "execution_count": null,
   "metadata": {},
   "outputs": [],
   "source": [
    "def strategy(self):\n",
    "        \"\"\" Calculate buy/sell signals \"\"\"\n",
    "        if len(self.price) >= self.long_window:\n",
    "            windows = self.calculate_windows()\n",
    "            signal = 1 if windows[0] > windows[1] else 0\n",
    "            self.position = signal - self.last_signal\n",
    "            self.positions.append(self.position)\n",
    "            self.last_signal = signal"
   ]
  },
  {
   "cell_type": "markdown",
   "metadata": {},
   "source": [
    "Aby wygenerować raport dane sprowadzamy do *DataFrame'u* modułu *pandas*."
   ]
  },
  {
   "cell_type": "code",
   "execution_count": null,
   "metadata": {},
   "outputs": [],
   "source": [
    "df = pd.DataFrame(list(zip(*[self.price, self.short_average, self.long_average, self.positions])))\n",
    "df.columns = ['Price', 'Short average', 'Long average', 'Positions']"
   ]
  },
  {
   "cell_type": "markdown",
   "metadata": {},
   "source": [
    "Jest to struktura składająca się z wierszy i kolumn."
   ]
  },
  {
   "cell_type": "code",
   "execution_count": 4,
   "metadata": {},
   "outputs": [
    {
     "output_type": "stream",
     "name": "stdout",
     "text": "High        Low       Open      Close       Volume  Adj Close\nDate                                                                          \n2012-10-01  96.678574  93.785713  95.879997  94.198570  135898700.0  81.897568\n2012-10-02  95.192856  92.949997  94.544289  94.472855  156998100.0  82.136055\n2012-10-03  95.980003  94.661430  94.980003  95.921425  106070300.0  83.395477\n2012-10-04  96.321426  95.078575  95.892860  95.257141   92681400.0  82.817886\n2012-10-05  95.142860  93.040001  95.028572  93.227142  148501500.0  81.053017\n            signal  short_mavg  long_mavg  position\nDate                                               \n2012-10-01     0.0   94.198570  94.198570       NaN\n2012-10-02     0.0   94.335712  94.335712       0.0\n2012-10-03     0.0   94.864283  94.864283       0.0\n2012-10-04     0.0   94.962498  94.962498       0.0\n2012-10-05     0.0   94.615427  94.615427       0.0\n"
    }
   ],
   "source": [
    "import pandas as pd\n",
    "import pandas_datareader as pdr \n",
    "import numpy as np\n",
    "import matplotlib.pyplot as plt \n",
    "import datetime\n",
    "\n",
    "aapl = pdr.get_data_yahoo('AAPL', start=datetime.date(2012, 10, 1), end=datetime.date.today())\n",
    "\n",
    "# Init. the short and long windows\n",
    "short_window = 40\n",
    "long_window = 100\n",
    "\n",
    "# Init. the signals dataframe with  the signal column\n",
    "signals = pd.DataFrame(index=aapl.index)\n",
    "signals['signal'] = 0.0\n",
    "\n",
    "# Create Short Simple Moving Average\n",
    "signals['short_mavg'] = aapl['Close'].rolling(window=short_window, min_periods=1, center=False).mean()\n",
    "\n",
    "# Create Long Simple Moving Average\n",
    "signals['long_mavg'] = aapl['Close'].rolling(window=long_window, min_periods=1, center=False).mean()\n",
    "\n",
    "# Create signals\n",
    "signals['signal'][short_window:] = np.where(signals['short_mavg'][short_window:] > signals['long_mavg'][short_window:], 1.0, 0.0)\n",
    "\n",
    "# Generate trading orders\n",
    "signals['position'] = signals['signal'].diff()\n",
    "\n",
    "print(aapl.head())\n",
    "print(signals.head())"
   ]
  },
  {
   "cell_type": "markdown",
   "metadata": {},
   "source": [
    "W naszej implementacji "
   ]
  }
 ],
 "metadata": {
  "language_info": {
   "codemirror_mode": {
    "name": "ipython",
    "version": 3
   },
   "file_extension": ".py",
   "mimetype": "text/x-python",
   "name": "python",
   "nbconvert_exporter": "python",
   "pygments_lexer": "ipython3",
   "version": "3.7.6-final"
  },
  "orig_nbformat": 2,
  "kernelspec": {
   "name": "python3",
   "display_name": "Python 3"
  }
 },
 "nbformat": 4,
 "nbformat_minor": 2
}