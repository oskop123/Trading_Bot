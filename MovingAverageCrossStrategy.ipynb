{
 "nbformat": 4,
 "nbformat_minor": 2,
 "metadata": {
  "language_info": {
   "name": "python",
   "codemirror_mode": {
    "name": "ipython",
    "version": 3
   },
   "version": "3.7.6-final"
  },
  "orig_nbformat": 2,
  "file_extension": ".py",
  "mimetype": "text/x-python",
  "name": "python",
  "npconvert_exporter": "python",
  "pygments_lexer": "ipython3",
  "version": 3,
  "kernelspec": {
   "name": "python3",
   "display_name": "Python 3"
  }
 },
 "cells": [
  {
   "cell_type": "markdown",
   "metadata": {},
   "source": [
    "# Moving Average Cross Strategy"
   ]
  },
  {
   "cell_type": "markdown",
   "metadata": {},
   "source": [
    "## Introduction\n",
    "In this part we will look at a common trading strategy called the \"moving average cross strategy\". The idea is to smooth out the price data. Instead of looking at the current price we focus on an average price over the past x periods, where x is the window size. As you can easily imagine, the window will move forward with each price change.\n",
    "\n",
    "In this strategy we define a small and a large window. As the prices start to change, the shorter average price changes quicker than the larger average price. Here is where the magic happens. When the smaller window price is underneath the larger window price and crosses it, the strategy generats a buy signal. When the smaller window price changes its state from above to below the larger window price, the strategy generates a sell signal.\n",
    "To have a better understanding of this mechanism take a look at an example plot:\n",
    "\n",
    "<img src=\"MovingAverageCrossExample1.png\">"
   ]
  },
  {
   "cell_type": "markdown",
   "metadata": {},
   "source": [
    "## Import\n",
    "To begin coding we have to import these packages:"
   ]
  },
  {
   "cell_type": "code",
   "execution_count": 4,
   "metadata": {},
   "outputs": [],
   "source": [
    "import datetime\n",
    "import pandas as pd\n",
    "import pandas_datareader as pdr\n",
    "import numpy as np \n",
    "import matplotlib.pyplot as plt"
   ]
  },
  {
   "cell_type": "markdown",
   "metadata": {},
   "source": [
    "## Class\n",
    "We will use a class to use the strategy"
   ]
  },
  {
   "cell_type": "code",
   "execution_count": 6,
   "metadata": {},
   "outputs": [],
   "source": [
    "class MovingAverageCrossStrategy:\n",
    "    def __init__():\n",
    "        pass"
   ]
  },
  {
   "cell_type": "code",
   "execution_count": null,
   "metadata": {},
   "outputs": [],
   "source": []
  }
 ]
}