{
 "cells": [
  {
   "cell_type": "markdown",
   "metadata": {},
   "source": [
    "# Trading Bot w Pythonie\n",
    "By Adam Księżyk i Oskar Świerczek"
   ]
  },
  {
   "cell_type": "markdown",
   "metadata": {},
   "source": [
    "Projekt, który realizujemy ma na celu automatyczną analizę rynku na podstawie, której wygeneruje sygnały otwarcia i zamknięcia pozycji. Następnie poprzez API wyśle polecenie zrealizowania transakcji, dzięki czemu możemy spekulować prawdziwymi instrumentami finansowymi jak akcje, pary walutowe, surowce itd.\n",
    "\n",
    "Wykorzystamy następujące narzędzia:\n",
    "- Python3\n",
    "- Python modules: collections, statistics, time\n",
    "- XTB Trading station https://xstation5.xtb.com/\n",
    "- XTB konto demo https://www.xtb.com/pl/demo-account\n",
    "- XTB API http://developers.xstore.pro/api"
   ]
  },
  {
   "cell_type": "markdown",
   "metadata": {},
   "source": [
    "XTB to polski dom maklerski, oferujący bardzo ciekawe opcje. Skorzystamy z ich konta demo aby inwestować wirtualnymi pieniędzmi.\n",
    "Wszystkie transakcje będzie można śledzieć na platformie xStation.\n",
    "\n",
    "![xStation](https://user-images.githubusercontent.com/31096588/81677657-6cfcf380-9451-11ea-9864-14b2906cf667.png)\n",
    "\n",
    "Aby program mógł się połączyć z serwisem i zarządzać naszym kontem skorzystamy z API."
   ]
  },
  {
   "cell_type": "markdown",
   "metadata": {},
   "source": [
    "Strategia, z której korzystamy ma nazwę *Moving Average Crossover Strategy* (MACS). Jest to popularna technika do rozpoznawania trendów. Działa w następujący sposób.\n",
    "Definiujemy dwie średnie:\n",
    "- short window - średnia z ostatnich x cen\n",
    "- long window - średnia z ostatnich y cen\n",
    "\n",
    ",gdzie y > x.\n",
    "\n",
    "![SMA](https://user-images.githubusercontent.com/31096588/81678848-25c33280-9452-11ea-96b8-70eea7cc5424.png)\n",
    "\n",
    "niebieski - short window, żółty - long window"
   ]
  },
  {
   "cell_type": "markdown",
   "metadata": {},
   "source": [
    "Kiedy krótsza średnia jest poniżej dłuższej średniej to punt przecięcia średnich jest sygnałem do kupna.\n",
    "Analogicznie, kiedy krótsza średnia jest powyżej dłuższej średniej to punkt przecięcia średnich jest sygnałem do sprzedaży.\n",
    "\n",
    "![Signals](https://user-images.githubusercontent.com/31096588/81679013-3d022000-9452-11ea-869c-b73507a3e184.png)\n",
    "\n",
    "Sygnały zaznaczone strzałkami."
   ]
  }
 ],
 "metadata": {
  "language_info": {
   "codemirror_mode": {
    "name": "ipython",
    "version": 3
   },
   "file_extension": ".py",
   "mimetype": "text/x-python",
   "name": "python",
   "nbconvert_exporter": "python",
   "pygments_lexer": "ipython3",
   "version": "3.7.6-final"
  },
  "orig_nbformat": 2,
  "kernelspec": {
   "name": "python3",
   "display_name": "Python 3"
  }
 },
 "nbformat": 4,
 "nbformat_minor": 2
}
